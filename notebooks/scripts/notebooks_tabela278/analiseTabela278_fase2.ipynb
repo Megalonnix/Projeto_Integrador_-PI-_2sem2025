{
 "cells": [
  {
   "cell_type": "markdown",
   "id": "958b0807",
   "metadata": {},
   "source": [
    "#### **(ETL fase 02) - Ajustando tipos de dados mais detalhes adicionais:**"
   ]
  },
  {
   "cell_type": "code",
   "execution_count": 98,
   "id": "c88ed059",
   "metadata": {},
   "outputs": [],
   "source": [
    "import pandas as pd\n",
    "from openpyxl import load_workbook"
   ]
  },
  {
   "cell_type": "code",
   "execution_count": 99,
   "id": "87e34914",
   "metadata": {},
   "outputs": [],
   "source": [
    "url = r'../../../data/raw/ESTOQUES_TABELA_278/tabela278.xlsx'\n",
    "df = pd.read_excel(url) "
   ]
  },
  {
   "cell_type": "code",
   "execution_count": 100,
   "id": "2e28f41c",
   "metadata": {},
   "outputs": [],
   "source": [
    "wb = load_workbook(url)\n",
    "sheet = wb['Numero-de-estabelecimentos']"
   ]
  },
  {
   "cell_type": "code",
   "execution_count": 101,
   "id": "5cc70b63",
   "metadata": {},
   "outputs": [],
   "source": [
    "# A coluna \"A\" deve ir de [A7:A199] pois\n",
    "# os nomes das unidades federais estão em merged cells:\n",
    " \n",
    "coluna_A = [ cell[0].value for cell in sheet['A7':'A199']]\n",
    "coluna_A = pd.Series(coluna_A).dropna()\n",
    "valores_unicos_colunaA = list(coluna_A.unique())"
   ]
  },
  {
   "cell_type": "code",
   "execution_count": 102,
   "id": "b4af650f",
   "metadata": {},
   "outputs": [
    {
     "data": {
      "text/plain": [
       "['Brasil',\n",
       " 'Norte',\n",
       " 'Nordeste',\n",
       " 'Sudeste',\n",
       " 'Sul',\n",
       " 'Centro-Oeste',\n",
       " 'Rondônia',\n",
       " 'Acre',\n",
       " 'Amazonas',\n",
       " 'Roraima']"
      ]
     },
     "execution_count": 102,
     "metadata": {},
     "output_type": "execute_result"
    }
   ],
   "source": [
    "valores_unicos_colunaA[0:10] # São 33 unidades federais no total."
   ]
  },
  {
   "cell_type": "code",
   "execution_count": 103,
   "id": "aa01e258",
   "metadata": {},
   "outputs": [],
   "source": [
    "url_2 = r'./../../../data/interim/tabela278_semiprocessado.xlsx'\n",
    "df_2 = pd.read_excel(url_2)"
   ]
  },
  {
   "cell_type": "code",
   "execution_count": 104,
   "id": "97858c25",
   "metadata": {},
   "outputs": [],
   "source": [
    "comprimento_df2 = len(df_2)"
   ]
  },
  {
   "cell_type": "code",
   "execution_count": 105,
   "id": "ecfc664e",
   "metadata": {},
   "outputs": [],
   "source": [
    "import numpy as np\n",
    "\n",
    "nomes_repetidos = np.tile(\n",
    "    valores_unicos_colunaA, \n",
    "    int(np.ceil(comprimento_df2/len(valores_unicos_colunaA))))[:comprimento_df2]"
   ]
  },
  {
   "cell_type": "code",
   "execution_count": 106,
   "id": "2960ebed",
   "metadata": {},
   "outputs": [
    {
     "data": {
      "text/html": [
       "<div>\n",
       "<style scoped>\n",
       "    .dataframe tbody tr th:only-of-type {\n",
       "        vertical-align: middle;\n",
       "    }\n",
       "\n",
       "    .dataframe tbody tr th {\n",
       "        vertical-align: top;\n",
       "    }\n",
       "\n",
       "    .dataframe thead th {\n",
       "        text-align: right;\n",
       "    }\n",
       "</style>\n",
       "<table border=\"1\" class=\"dataframe\">\n",
       "  <thead>\n",
       "    <tr style=\"text-align: right;\">\n",
       "      <th></th>\n",
       "      <th>unidade_federativa</th>\n",
       "    </tr>\n",
       "  </thead>\n",
       "  <tbody>\n",
       "    <tr>\n",
       "      <th>0</th>\n",
       "      <td>Brasil</td>\n",
       "    </tr>\n",
       "    <tr>\n",
       "      <th>1</th>\n",
       "      <td>Norte</td>\n",
       "    </tr>\n",
       "    <tr>\n",
       "      <th>2</th>\n",
       "      <td>Nordeste</td>\n",
       "    </tr>\n",
       "    <tr>\n",
       "      <th>3</th>\n",
       "      <td>Sudeste</td>\n",
       "    </tr>\n",
       "    <tr>\n",
       "      <th>4</th>\n",
       "      <td>Sul</td>\n",
       "    </tr>\n",
       "    <tr>\n",
       "      <th>...</th>\n",
       "      <td>...</td>\n",
       "    </tr>\n",
       "    <tr>\n",
       "      <th>3460</th>\n",
       "      <td>Rio Grande do Sul</td>\n",
       "    </tr>\n",
       "    <tr>\n",
       "      <th>3461</th>\n",
       "      <td>Mato Grosso do Sul</td>\n",
       "    </tr>\n",
       "    <tr>\n",
       "      <th>3462</th>\n",
       "      <td>Mato Grosso</td>\n",
       "    </tr>\n",
       "    <tr>\n",
       "      <th>3463</th>\n",
       "      <td>Goiás</td>\n",
       "    </tr>\n",
       "    <tr>\n",
       "      <th>3464</th>\n",
       "      <td>Distrito Federal</td>\n",
       "    </tr>\n",
       "  </tbody>\n",
       "</table>\n",
       "<p>3465 rows × 1 columns</p>\n",
       "</div>"
      ],
      "text/plain": [
       "      unidade_federativa\n",
       "0                 Brasil\n",
       "1                  Norte\n",
       "2               Nordeste\n",
       "3                Sudeste\n",
       "4                    Sul\n",
       "...                  ...\n",
       "3460   Rio Grande do Sul\n",
       "3461  Mato Grosso do Sul\n",
       "3462         Mato Grosso\n",
       "3463               Goiás\n",
       "3464    Distrito Federal\n",
       "\n",
       "[3465 rows x 1 columns]"
      ]
     },
     "execution_count": 106,
     "metadata": {},
     "output_type": "execute_result"
    }
   ],
   "source": [
    "nomes_repetidos = list(nomes_repetidos)\n",
    "df_nomes_unidades_federais = pd.DataFrame(nomes_repetidos, columns=['unidade_federativa'])\n",
    "df_nomes_unidades_federais"
   ]
  },
  {
   "cell_type": "markdown",
   "id": "66dfcb3d",
   "metadata": {},
   "source": [
    "##### **(ETL fase 02A) - Adicionando o nome das respectivas unidades federais:**\n",
    "Dataframe mais completo, contendo o nome das respectivas unidades federais:"
   ]
  },
  {
   "cell_type": "code",
   "execution_count": 108,
   "id": "2575e613",
   "metadata": {},
   "outputs": [],
   "source": [
    "df_3 = pd.concat([df_nomes_unidades_federais, df_2], axis=1)"
   ]
  },
  {
   "cell_type": "code",
   "execution_count": 109,
   "id": "58a18232",
   "metadata": {},
   "outputs": [
    {
     "data": {
      "text/html": [
       "<div>\n",
       "<style scoped>\n",
       "    .dataframe tbody tr th:only-of-type {\n",
       "        vertical-align: middle;\n",
       "    }\n",
       "\n",
       "    .dataframe tbody tr th {\n",
       "        vertical-align: top;\n",
       "    }\n",
       "\n",
       "    .dataframe thead th {\n",
       "        text-align: right;\n",
       "    }\n",
       "</style>\n",
       "<table border=\"1\" class=\"dataframe\">\n",
       "  <thead>\n",
       "    <tr style=\"text-align: right;\">\n",
       "      <th></th>\n",
       "      <th>unidade_federativa</th>\n",
       "      <th>estabelecimentos_total</th>\n",
       "      <th>comercio_exceto_supermercado_total</th>\n",
       "      <th>supermercado_total</th>\n",
       "      <th>industria_total</th>\n",
       "      <th>servico_de_armazenagem_total</th>\n",
       "      <th>producao_agropecuaria_total</th>\n",
       "      <th>estabelecimentos_governo</th>\n",
       "      <th>comercio_exceto_supermercado_governo</th>\n",
       "      <th>supermercado_governo</th>\n",
       "      <th>...</th>\n",
       "      <th>servico_de_armazenagem_governo</th>\n",
       "      <th>producao_agropecuaria_governo</th>\n",
       "      <th>estabelecimentos_iniciativa_privada</th>\n",
       "      <th>comercio_exceto_supermercado_iniciativa_privada</th>\n",
       "      <th>supermercado_iniciativa_privada</th>\n",
       "      <th>industria_iniciativa_privada</th>\n",
       "      <th>servico_de_armazenagem_iniciativa_privada</th>\n",
       "      <th>producao_agropecuaria_iniciativa_privada</th>\n",
       "      <th>categoria_armazem</th>\n",
       "      <th>dt_registro</th>\n",
       "    </tr>\n",
       "  </thead>\n",
       "  <tbody>\n",
       "    <tr>\n",
       "      <th>0</th>\n",
       "      <td>Brasil</td>\n",
       "      <td>6273</td>\n",
       "      <td>1861</td>\n",
       "      <td>295</td>\n",
       "      <td>1897</td>\n",
       "      <td>1478</td>\n",
       "      <td>742</td>\n",
       "      <td>225</td>\n",
       "      <td>8</td>\n",
       "      <td>2</td>\n",
       "      <td>...</td>\n",
       "      <td>201</td>\n",
       "      <td>13</td>\n",
       "      <td>4961</td>\n",
       "      <td>1254</td>\n",
       "      <td>274</td>\n",
       "      <td>1774</td>\n",
       "      <td>937</td>\n",
       "      <td>722</td>\n",
       "      <td>Armazéns convencionais, estruturais e infláveis</td>\n",
       "      <td>2º semestre 2007</td>\n",
       "    </tr>\n",
       "    <tr>\n",
       "      <th>1</th>\n",
       "      <td>Norte</td>\n",
       "      <td>268</td>\n",
       "      <td>49</td>\n",
       "      <td>21</td>\n",
       "      <td>71</td>\n",
       "      <td>112</td>\n",
       "      <td>15</td>\n",
       "      <td>31</td>\n",
       "      <td>-</td>\n",
       "      <td>-</td>\n",
       "      <td>...</td>\n",
       "      <td>30</td>\n",
       "      <td>1</td>\n",
       "      <td>211</td>\n",
       "      <td>48</td>\n",
       "      <td>21</td>\n",
       "      <td>66</td>\n",
       "      <td>62</td>\n",
       "      <td>14</td>\n",
       "      <td>Armazéns convencionais, estruturais e infláveis</td>\n",
       "      <td>2º semestre 2007</td>\n",
       "    </tr>\n",
       "    <tr>\n",
       "      <th>2</th>\n",
       "      <td>Nordeste</td>\n",
       "      <td>661</td>\n",
       "      <td>183</td>\n",
       "      <td>37</td>\n",
       "      <td>262</td>\n",
       "      <td>96</td>\n",
       "      <td>83</td>\n",
       "      <td>51</td>\n",
       "      <td>1</td>\n",
       "      <td>2</td>\n",
       "      <td>...</td>\n",
       "      <td>46</td>\n",
       "      <td>2</td>\n",
       "      <td>565</td>\n",
       "      <td>175</td>\n",
       "      <td>35</td>\n",
       "      <td>252</td>\n",
       "      <td>24</td>\n",
       "      <td>79</td>\n",
       "      <td>Armazéns convencionais, estruturais e infláveis</td>\n",
       "      <td>2º semestre 2007</td>\n",
       "    </tr>\n",
       "  </tbody>\n",
       "</table>\n",
       "<p>3 rows × 21 columns</p>\n",
       "</div>"
      ],
      "text/plain": [
       "  unidade_federativa estabelecimentos_total  \\\n",
       "0             Brasil                   6273   \n",
       "1              Norte                    268   \n",
       "2           Nordeste                    661   \n",
       "\n",
       "  comercio_exceto_supermercado_total supermercado_total industria_total  \\\n",
       "0                               1861                295            1897   \n",
       "1                                 49                 21              71   \n",
       "2                                183                 37             262   \n",
       "\n",
       "  servico_de_armazenagem_total producao_agropecuaria_total  \\\n",
       "0                         1478                         742   \n",
       "1                          112                          15   \n",
       "2                           96                          83   \n",
       "\n",
       "  estabelecimentos_governo comercio_exceto_supermercado_governo  \\\n",
       "0                      225                                    8   \n",
       "1                       31                                    -   \n",
       "2                       51                                    1   \n",
       "\n",
       "  supermercado_governo  ... servico_de_armazenagem_governo  \\\n",
       "0                    2  ...                            201   \n",
       "1                    -  ...                             30   \n",
       "2                    2  ...                             46   \n",
       "\n",
       "  producao_agropecuaria_governo estabelecimentos_iniciativa_privada  \\\n",
       "0                            13                                4961   \n",
       "1                             1                                 211   \n",
       "2                             2                                 565   \n",
       "\n",
       "  comercio_exceto_supermercado_iniciativa_privada  \\\n",
       "0                                            1254   \n",
       "1                                              48   \n",
       "2                                             175   \n",
       "\n",
       "  supermercado_iniciativa_privada industria_iniciativa_privada  \\\n",
       "0                             274                         1774   \n",
       "1                              21                           66   \n",
       "2                              35                          252   \n",
       "\n",
       "  servico_de_armazenagem_iniciativa_privada  \\\n",
       "0                                       937   \n",
       "1                                        62   \n",
       "2                                        24   \n",
       "\n",
       "  producao_agropecuaria_iniciativa_privada  \\\n",
       "0                                      722   \n",
       "1                                       14   \n",
       "2                                       79   \n",
       "\n",
       "                                 categoria_armazem       dt_registro  \n",
       "0  Armazéns convencionais, estruturais e infláveis  2º semestre 2007  \n",
       "1  Armazéns convencionais, estruturais e infláveis  2º semestre 2007  \n",
       "2  Armazéns convencionais, estruturais e infláveis  2º semestre 2007  \n",
       "\n",
       "[3 rows x 21 columns]"
      ]
     },
     "execution_count": 109,
     "metadata": {},
     "output_type": "execute_result"
    }
   ],
   "source": [
    "df_3.head(3)"
   ]
  }
 ],
 "metadata": {
  "kernelspec": {
   "display_name": "base",
   "language": "python",
   "name": "python3"
  },
  "language_info": {
   "codemirror_mode": {
    "name": "ipython",
    "version": 3
   },
   "file_extension": ".py",
   "mimetype": "text/x-python",
   "name": "python",
   "nbconvert_exporter": "python",
   "pygments_lexer": "ipython3",
   "version": "3.11.5"
  }
 },
 "nbformat": 4,
 "nbformat_minor": 5
}
