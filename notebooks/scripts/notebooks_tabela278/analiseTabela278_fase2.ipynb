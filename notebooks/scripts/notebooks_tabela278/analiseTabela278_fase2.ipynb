{
 "cells": [
  {
   "cell_type": "code",
   "execution_count": 2,
   "id": "c88ed059",
   "metadata": {},
   "outputs": [],
   "source": [
    "import pandas as pd\n",
    "from openpyxl import load_workbook"
   ]
  },
  {
   "cell_type": "code",
   "execution_count": null,
   "id": "87e34914",
   "metadata": {},
   "outputs": [],
   "source": [
    "url = r'../../../data/raw/ESTOQUES_TABELA_278/tabela278.xlsx'\n",
    "df = pd.read_excel(url) "
   ]
  },
  {
   "cell_type": "code",
   "execution_count": 4,
   "id": "2e28f41c",
   "metadata": {},
   "outputs": [],
   "source": [
    "wb = load_workbook(url)\n",
    "sheet = wb['Numero-de-estabelecimentos']"
   ]
  },
  {
   "cell_type": "code",
   "execution_count": 9,
   "id": "5cc70b63",
   "metadata": {},
   "outputs": [],
   "source": [
    "# A coluna \"A\" deve ir de [A7:A199] pois\n",
    "# os nomes das unidades federais estão em merged cells:\n",
    " \n",
    "coluna_A = [ cell[0].value for cell in sheet['A7':'A199']]\n",
    "coluna_A = pd.Series(coluna_A).dropna()\n",
    "valores_unicos_colunaA = list(coluna_A.unique())"
   ]
  },
  {
   "cell_type": "code",
   "execution_count": null,
   "id": "b4af650f",
   "metadata": {},
   "outputs": [
    {
     "data": {
      "text/plain": [
       "['Brasil',\n",
       " 'Norte',\n",
       " 'Nordeste',\n",
       " 'Sudeste',\n",
       " 'Sul',\n",
       " 'Centro-Oeste',\n",
       " 'Rondônia',\n",
       " 'Acre',\n",
       " 'Amazonas',\n",
       " 'Roraima']"
      ]
     },
     "execution_count": 14,
     "metadata": {},
     "output_type": "execute_result"
    }
   ],
   "source": [
    "valores_unicos_colunaA[0:10] # São 33 unidades federais no total."
   ]
  }
 ],
 "metadata": {
  "kernelspec": {
   "display_name": "base",
   "language": "python",
   "name": "python3"
  },
  "language_info": {
   "codemirror_mode": {
    "name": "ipython",
    "version": 3
   },
   "file_extension": ".py",
   "mimetype": "text/x-python",
   "name": "python",
   "nbconvert_exporter": "python",
   "pygments_lexer": "ipython3",
   "version": "3.11.5"
  }
 },
 "nbformat": 4,
 "nbformat_minor": 5
}
