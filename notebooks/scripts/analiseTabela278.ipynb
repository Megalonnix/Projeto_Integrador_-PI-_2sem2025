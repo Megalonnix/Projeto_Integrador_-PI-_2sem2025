{
 "cells": [
  {
   "cell_type": "code",
   "execution_count": 66,
   "id": "87d1fe48",
   "metadata": {},
   "outputs": [],
   "source": [
    "import pandas as pd\n",
    "from openpyxl import load_workbook"
   ]
  },
  {
   "cell_type": "markdown",
   "id": "a27dc8e7",
   "metadata": {},
   "source": [
    "### **(ETL fase 01) - Extração de dados Tabela 278:**\n",
    "O dataframe **tabela278.xlsx** apresenta muitas merged cells / células fundidas. Por essa razão a lib openxl será usada para construir novo dataframe a partir do original: "
   ]
  },
  {
   "cell_type": "code",
   "execution_count": 63,
   "id": "e69b1128",
   "metadata": {},
   "outputs": [],
   "source": [
    "url = r'../../data/raw/ESTOQUES_TABELA_278/tabela278.xlsx'\n",
    "df = pd.read_excel(url)"
   ]
  },
  {
   "cell_type": "code",
   "execution_count": 72,
   "id": "4838ab61",
   "metadata": {},
   "outputs": [],
   "source": [
    "wb = load_workbook(url)\n",
    "sheet = wb['Numero-de-estabelecimentos']"
   ]
  },
  {
   "cell_type": "code",
   "execution_count": 98,
   "id": "da72aef6",
   "metadata": {},
   "outputs": [],
   "source": [
    "coluna_A = [ cell[0].value for cell in sheet['A7':'A199']]"
   ]
  },
  {
   "cell_type": "code",
   "execution_count": 111,
   "id": "f90d068a",
   "metadata": {},
   "outputs": [
    {
     "data": {
      "text/plain": [
       "0           Brasil\n",
       "6            Norte\n",
       "12        Nordeste\n",
       "18         Sudeste\n",
       "24             Sul\n",
       "30    Centro-Oeste\n",
       "36        Rondônia\n",
       "42            Acre\n",
       "48        Amazonas\n",
       "54         Roraima\n",
       "dtype: object"
      ]
     },
     "execution_count": 111,
     "metadata": {},
     "output_type": "execute_result"
    }
   ],
   "source": [
    "coluna_A = pd.Series(coluna_A).dropna()\n",
    "coluna_A.head(10)"
   ]
  },
  {
   "cell_type": "code",
   "execution_count": 135,
   "id": "4a55698e",
   "metadata": {},
   "outputs": [
    {
     "data": {
      "text/plain": [
       "0                             Total\n",
       "1    Comércio (exceto supermercado)\n",
       "2                      Supermercado\n",
       "3                         Indústria\n",
       "4            Serviço de armazenagem\n",
       "5             Produção agropecuária\n",
       "dtype: object"
      ]
     },
     "execution_count": 135,
     "metadata": {},
     "output_type": "execute_result"
    }
   ],
   "source": [
    "tipos_atv_estabelecimento = \\\n",
    "    [ cell[0].value for cell in sheet['B7':'B12']]\n",
    "tiposAtvEstb = pd.Series(tipos_atv_estabelecimento)\n",
    "tiposAtvEstb"
   ]
  },
  {
   "cell_type": "code",
   "execution_count": 126,
   "id": "3e6609ab",
   "metadata": {},
   "outputs": [
    {
     "data": {
      "text/plain": [
       "0    6273\n",
       "1    1861\n",
       "2     295\n",
       "3    1897\n",
       "4    1478\n",
       "5     742\n",
       "dtype: object"
      ]
     },
     "execution_count": 126,
     "metadata": {},
     "output_type": "execute_result"
    }
   ],
   "source": [
    "coluna_C = [ cell[0].value for cell in sheet['C7':'C199']]\n",
    "pd.Series(coluna_C).head(6)"
   ]
  },
  {
   "cell_type": "code",
   "execution_count": 129,
   "id": "ecd1a9f2",
   "metadata": {},
   "outputs": [],
   "source": [
    "listaDividida = \\\n",
    "[coluna_C[i:i+6] for i in range(0, len(coluna_C), 6)]"
   ]
  },
  {
   "cell_type": "code",
   "execution_count": 130,
   "id": "dfd24239",
   "metadata": {},
   "outputs": [
    {
     "data": {
      "text/plain": [
       "[[6273, 1861, 295, 1897, 1478, 742],\n",
       " [268, 49, 21, 71, 112, 15],\n",
       " [661, 183, 37, 262, 96, 83],\n",
       " [1789, 429, 125, 669, 507, 59],\n",
       " [2606, 1083, 95, 705, 434, 289],\n",
       " [949, 117, 17, 190, 329, 296],\n",
       " [35, 2, 1, 18, 14, '-'],\n",
       " [24, '-', 8, 1, 15, '-'],\n",
       " [30, 16, 2, 8, 4, '-'],\n",
       " [7, '-', 1, 5, 1, '-'],\n",
       " [90, 26, 5, 30, 15, 14],\n",
       " [7, 3, 2, '-', 2, '-'],\n",
       " [75, 2, 2, 9, 61, 1],\n",
       " [53, 3, 1, 37, 11, 1],\n",
       " [104, 17, '-', 13, 14, 60],\n",
       " [137, 28, 6, 82, 16, 5],\n",
       " [19, 2, 1, 10, 6, '-'],\n",
       " [19, '-', '-', 13, 6, '-'],\n",
       " [45, 2, 3, 33, 3, 4],\n",
       " [38, 6, 1, 19, 12, '-'],\n",
       " [35, '-', 13, 20, 2, '-'],\n",
       " [211, 125, 12, 35, 26, 13],\n",
       " [676, 191, 25, 170, 260, 30],\n",
       " [121, 34, 4, 6, 75, 2],\n",
       " [99, 25, 26, 37, 11, '-'],\n",
       " [893, 179, 70, 456, 161, 27],\n",
       " [1014, 570, 36, 238, 138, 32],\n",
       " [429, 195, 14, 123, 81, 16],\n",
       " [1163, 318, 45, 344, 215, 241],\n",
       " [217, 50, 2, 21, 58, 86],\n",
       " [481, 28, 5, 90, 181, 177],\n",
       " [213, 25, 1, 71, 87, 29],\n",
       " [38]]"
      ]
     },
     "execution_count": 130,
     "metadata": {},
     "output_type": "execute_result"
    }
   ],
   "source": [
    "listaDividida"
   ]
  },
  {
   "cell_type": "code",
   "execution_count": null,
   "id": "48adcabc",
   "metadata": {},
   "outputs": [],
   "source": []
  }
 ],
 "metadata": {
  "kernelspec": {
   "display_name": "base",
   "language": "python",
   "name": "python3"
  },
  "language_info": {
   "codemirror_mode": {
    "name": "ipython",
    "version": 3
   },
   "file_extension": ".py",
   "mimetype": "text/x-python",
   "name": "python",
   "nbconvert_exporter": "python",
   "pygments_lexer": "ipython3",
   "version": "3.11.5"
  }
 },
 "nbformat": 4,
 "nbformat_minor": 5
}
